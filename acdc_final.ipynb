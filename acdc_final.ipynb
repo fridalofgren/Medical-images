{
 "cells": [
  {
   "cell_type": "code",
   "execution_count": 19,
   "id": "bb315568-c36a-4f38-beba-efcdf7214d35",
   "metadata": {},
   "outputs": [],
   "source": [
    "\"\"\"This file performs the training of the segmentation.\"\"\"\n",
    "import nbimporter\n",
    "from data_preparation import unzip_training_testing\n",
    "from sklearn.model_selection import KFold\n",
    "import os\n",
    "import gzip\n",
    "import shutil\n",
    "import numpy as np\n",
    "import matplotlib.pyplot as plt\n",
    "import matplotlib.colors as mcolors\n",
    "import glob\n",
    "import monai\n",
    "from PIL import Image\n",
    "import torch\n",
    "import nibabel as nib\n",
    "import scipy.ndimage as ndi\n",
    "from monai.transforms import Compose\n",
    "import random\n",
    "from tqdm import tqdm\n",
    "import wandb\n",
    "from monai.transforms import (\n",
    "    EnsureChannelFirstd,\n",
    "    ScaleIntensityRangePercentilesd,\n",
    "    RandZoomd, ToTensord,\n",
    "    SpatialPadd, RandSpatialCropd,\n",
    "    RandRotated\n",
    "    )"
   ]
  },
  {
   "cell_type": "code",
   "execution_count": 20,
   "id": "2e920878-06ba-430b-af1b-581b49a4d3ac",
   "metadata": {
    "tags": []
   },
   "outputs": [],
   "source": [
    "# Set a random seed for everything\n",
    "random.seed(42)\n",
    "np.random.seed(42)\n",
    "torch.manual_seed(42)\n",
    "if torch.cuda.is_available():\n",
    "    torch.cuda.manual_seed(42)\n",
    "torch.backends.cudnn.deterministic = True\n",
    "torch.backends.cudnn.benchmark = False\n",
    "\n",
    "\n",
    "# Function to set the seed for each worker\n",
    "def seed_worker(worker_id):\n",
    "    worker_seed = torch.initial_seed() % 2**32\n",
    "    np.random.seed(worker_seed)\n",
    "    random.seed(worker_seed)\n",
    "\n",
    "\n",
    "monai.utils.set_determinism(seed=42)"
   ]
  },
  {
   "cell_type": "code",
   "execution_count": 21,
   "id": "302777be-8504-40da-b0b5-600b96f2e9e0",
   "metadata": {},
   "outputs": [],
   "source": [
    "data_path = r'/home/jovyan/Medical images/heart/database/'"
   ]
  },
  {
   "cell_type": "code",
   "execution_count": 22,
   "id": "e14adfb8-ab32-49be-9841-f3cba57f136f",
   "metadata": {},
   "outputs": [],
   "source": [
    "def build_dict_hearts(data_path, mode='training', phase=None):\n",
    "    \"\"\"\n",
    "    This function returns a list of dictionaries, each dictionary containing\n",
    "    the keys 'img_sys' and 'mask_sys', and 'img_dia' and 'mask_dia' that\n",
    "    returns the path to the corresponding image.\n",
    "\n",
    "    Args:\n",
    "        data_path (str): path to the root folder of the data set.\n",
    "        mode (str): subset used. Must correspond to 'training' or 'testing'.\n",
    "        phase (str): specify phase for the testing data. Must correspond\n",
    "        'sys' or 'dia'.\n",
    "\n",
    "    Returns:\n",
    "        (List[Dict[str, str]]) list of the dictionaries containing the paths\n",
    "        of X-ray images and masks.\n",
    "    \"\"\"\n",
    "    # test if mode is correct\n",
    "    if mode not in [\"training\", \"testing\"]:\n",
    "        raise ValueError(f\"Please choose a mode in ['training', 'testing'].\\\n",
    "        Current mode is {mode}.\")\n",
    "    if mode == 'testing':\n",
    "        if phase is None:\n",
    "            raise ValueError(f\"Choose a phase for the testing mode.\\\n",
    "            Current phase is {phase}.\")\n",
    "\n",
    "    dicts = []\n",
    "    chosen_path = os.path.join(data_path, mode)\n",
    "    patient_list = os.listdir(chosen_path)\n",
    "    patient_list.remove('MANDATORY_CITATION.md')\n",
    "\n",
    "    for patient_nr in patient_list:\n",
    "        current_patient = os.path.join(chosen_path, patient_nr)\n",
    "\n",
    "        # Read systolic and diastolic frames from the info file\n",
    "        info_path = os.path.join(current_patient, 'Info.cfg')\n",
    "        info_file = open(info_path, \"r\")\n",
    "        ed_phase = info_file.readline().split()[1]\n",
    "        if len(ed_phase) == 1:\n",
    "            ed_phase = '0' + ed_phase\n",
    "        es_phase = info_file.readline().split()[1]\n",
    "        if len(es_phase) == 1:\n",
    "            es_phase = '0' + es_phase\n",
    "\n",
    "        # Create the file names\n",
    "        img_sys_file = patient_nr + '_frame' + es_phase + '.nii'\n",
    "        mask_sys_file = patient_nr + '_frame' + es_phase + '_gt.nii'\n",
    "        img_dia_file = patient_nr + '_frame' + ed_phase + '.nii'\n",
    "        mask_dia_file = patient_nr + '_frame' + ed_phase + '_gt.nii'\n",
    "\n",
    "        # Create the file paths\n",
    "        img_sys = os.path.join(mode, patient_nr, img_sys_file)\n",
    "        mask_sys = os.path.join(mode, patient_nr, mask_sys_file)\n",
    "        img_dia = os.path.join(mode, patient_nr, img_dia_file)\n",
    "        mask_dia = os.path.join(mode, patient_nr, mask_dia_file)\n",
    "\n",
    "        # Save both phases for training or separate phases for testing\n",
    "        if mode == 'training':\n",
    "            dicts.append({'img': img_sys, 'mask': mask_sys})\n",
    "            dicts.append({'img': img_dia, 'mask': mask_dia})\n",
    "        elif mode == 'testing':\n",
    "            if phase == 'sys':\n",
    "                dicts.append({'img': img_sys, 'mask': mask_sys})\n",
    "            elif phase == 'dia':\n",
    "                dicts.append({'img': img_dia, 'mask': mask_dia})\n",
    "\n",
    "    return dicts\n",
    "\n",
    "\n",
    "class LoadHeartData(monai.transforms.Transform):\n",
    "    \"\"\"\n",
    "    This function returns a dictionary of the data in the dictionary.\n",
    "    The original size of the image is also saved.\n",
    "    \"\"\"\n",
    "    def __init__(self, keys=None):\n",
    "        pass\n",
    "\n",
    "    def __call__(self, sample):\n",
    "        image = nib.load(data_path + sample['img']).get_fdata()\n",
    "        mask = nib.load(data_path + sample['mask']).get_fdata()\n",
    "        return {'img': image, 'mask': mask, 'original_size': image.shape}"
   ]
  },
  {
   "cell_type": "code",
   "execution_count": 23,
   "id": "790d4fec-bd32-4ea2-a431-4c0549c68451",
   "metadata": {},
   "outputs": [],
   "source": [
    "train_transform = Compose([LoadHeartData(),\n",
    "                           EnsureChannelFirstd(keys=['img', 'mask'], channel_dim='no_channel'),\n",
    "                           ScaleIntensityRangePercentilesd(keys=['img'], lower=5, upper=95, b_min=1, b_max=10),\n",
    "                           SpatialPadd(keys=['img', 'mask'], spatial_size=[256, 256, 16],method='end'),\n",
    "                           RandZoomd(keys=['img', 'mask'], prob=1, min_zoom=0.7, max_zoom=2, mode=['area', 'nearest']),\n",
    "                           RandSpatialCropd(keys=['img', 'mask'], roi_size=[256, 256, 16], random_size=False),\n",
    "                           ToTensord(keys=['img', 'mask'])\n",
    "                           ])\n",
    "val_transform = Compose([LoadHeartData(),\n",
    "                         EnsureChannelFirstd(keys=['img', 'mask'], channel_dim='no_channel'),\n",
    "                         ScaleIntensityRangePercentilesd(keys=['img'], lower=5, upper=95, b_min=1, b_max=10),\n",
    "                         SpatialPadd(keys=['img', 'mask'], spatial_size=[256, 256, 16], method='end'),\n",
    "                         RandSpatialCropd(keys=['img', 'mask'], roi_size=[256, 256, 16], random_size=False),\n",
    "                         ToTensord(keys=['img', 'mask'])\n",
    "                         ])\n",
    "test_transform = Compose([LoadHeartData(),\n",
    "                         EnsureChannelFirstd(keys=['img', 'mask'], channel_dim='no_channel'),\n",
    "                         ScaleIntensityRangePercentilesd(keys=['img'], lower=5, upper=95, b_min=1, b_max=10),\n",
    "                         SpatialPadd(keys=['img', 'mask'], spatial_size=[256, 256, 16], method='end'),\n",
    "                         ToTensord(keys=['img', 'mask'])\n",
    "                         ])"
   ]
  },
  {
   "cell_type": "code",
   "execution_count": 9,
   "id": "54f2344b-b1d9-4362-803d-ed78fd6c213e",
   "metadata": {},
   "outputs": [
    {
     "name": "stdout",
     "output_type": "stream",
     "text": [
      "200\n"
     ]
    },
    {
     "name": "stderr",
     "output_type": "stream",
     "text": [
      "Loading dataset: 100%|██████████| 200/200 [00:13<00:00, 14.44it/s]\n"
     ]
    }
   ],
   "source": [
    "heart_list = build_dict_hearts(data_path)\n",
    "print(len(heart_list))\n",
    "# construct CacheDataset from list of paths + transform\n",
    "train_dataset = monai.data.CacheDataset(heart_list, transform=train_transform)"
   ]
  },
  {
   "cell_type": "code",
   "execution_count": 10,
   "id": "75c41d82-3736-44dd-acf5-a0882dc46adb",
   "metadata": {},
   "outputs": [],
   "source": [
    "train_dataloader = monai.data.DataLoader(train_dataset, batch_size=16, shuffle=True, worker_init_fn=seed_worker)"
   ]
  },
  {
   "cell_type": "code",
   "execution_count": 11,
   "id": "8bf3239b-1d5f-4dc2-a88d-dc27b0a0f944",
   "metadata": {
    "tags": []
   },
   "outputs": [],
   "source": [
    "dataloader_vis_test = monai.data.DataLoader(train_dataset, batch_size=1, shuffle=True, worker_init_fn=seed_worker)"
   ]
  },
  {
   "cell_type": "code",
   "execution_count": 8,
   "id": "81e55af8-f162-4bbf-9d6d-729ee6f03b61",
   "metadata": {
    "tags": []
   },
   "outputs": [],
   "source": [
    "def visualize_rib_sample(sample, slice=0, title=None):\n",
    "    \"\"\"\n",
    "    Create a figure showing the transformed image and its mask.\n",
    "    \"\"\"\n",
    "    image = np.squeeze(sample['img'])\n",
    "    mask = np.squeeze(sample['mask'])\n",
    "    image = image[:,:,slice]\n",
    "    mask = mask[:,:,slice]\n",
    "    cmap = mcolors.ListedColormap(['none', 'red', 'green', 'blue'])\n",
    "    bounds = [0, 1, 2, 3, 4]\n",
    "    norm = mcolors.BoundaryNorm(bounds, cmap.N)\n",
    "    plt.figure(figsize=[10, 7])\n",
    "    plt.imshow(image, cmap='gray')\n",
    "    plt.imshow(mask, cmap=cmap, norm=norm, alpha=0.5, interpolation='nearest')\n",
    "    if title is not None:\n",
    "        plt.title(title)\n",
    "    plt.show()"
   ]
  },
  {
   "cell_type": "code",
   "execution_count": 9,
   "id": "e775b6b5-3077-41c0-9796-bdf098f27a09",
   "metadata": {
    "tags": []
   },
   "outputs": [
    {
     "data": {
      "image/png": "[encoded data removed]",
      "text/plain": [
       "<Figure size 1000x700 with 1 Axes>"
      ]
     },
     "metadata": {},
     "output_type": "display_data"
    }
   ],
   "source": [
    "data_iter = iter(dataloader_vis_test)\n",
    "first_batch = next(data_iter)\n",
    "visualize_rib_sample(first_batch)"
   ]
  },
  {
   "cell_type": "code",
   "execution_count": 122,
   "id": "683749d0-4bcd-47e4-9f79-2ada3fc027fd",
   "metadata": {
    "tags": []
   },
   "outputs": [],
   "source": [
    "distribution_transform = Compose([LoadHeartData(),\n",
    "                           EnsureChannelFirstd(keys=['img', 'mask'], channel_dim='no_channel'),\n",
    "                           ToTensord(keys=['img', 'mask'])\n",
    "                           ])"
   ]
  },
  {
   "cell_type": "code",
   "execution_count": 123,
   "id": "bc06399f-8b2b-4e3c-aeb9-0145d027fedd",
   "metadata": {
    "tags": []
   },
   "outputs": [
    {
     "name": "stdout",
     "output_type": "stream",
     "text": [
      "200\n"
     ]
    },
    {
     "name": "stderr",
     "output_type": "stream",
     "text": [
      "Loading dataset: 100%|██████████| 200/200 [00:03<00:00, 64.58it/s]\n"
     ]
    }
   ],
   "source": [
    "distribution_list = build_dict_hearts(data_path)\n",
    "print(len(distribution_list))\n",
    "# construct CacheDataset from list of paths + transform\n",
    "distribution_dataset = monai.data.CacheDataset(distribution_list, transform=distribution_transform)"
   ]
  },
  {
   "cell_type": "code",
   "execution_count": 124,
   "id": "e87f32aa-963c-4241-bb3f-bf953e8c58b0",
   "metadata": {
    "tags": []
   },
   "outputs": [],
   "source": [
    "distribution_loader = monai.data.DataLoader(distribution_dataset, batch_size=1, shuffle=True, worker_init_fn=seed_worker)"
   ]
  },
  {
   "cell_type": "code",
   "execution_count": 135,
   "id": "5f71ef1c-c481-4068-89f4-06a15371d854",
   "metadata": {
    "tags": []
   },
   "outputs": [
    {
     "name": "stdout",
     "output_type": "stream",
     "text": [
      "(208, 256, 10)\n",
      "10\n",
      "0\n",
      "1\n",
      "2\n",
      "3\n",
      "4\n",
      "5\n",
      "6\n",
      "7\n",
      "8\n",
      "9\n",
      "{0.0, 1.0, 2.0, 3.0}\n",
      "yes, seems good\n"
     ]
    }
   ],
   "source": [
    "# Investigate class distribution of one patient\n",
    "first_batch = next(iter(distribution_loader))\n",
    "sample_mask = np.squeeze(first_batch['mask'])\n",
    "print(sample_mask.shape)\n",
    "slices = sample_mask.shape[2]\n",
    "print(slices)\n",
    "intensities = []\n",
    "for slice_index in range(slices):\n",
    "    slice_sample = sample_mask[:, :, slice_index]\n",
    "    slice_intensities = slice_sample.flatten()\n",
    "    intensities.extend(slice_intensities)\n",
    "    print(slice_index)\n",
    "\n",
    "unique_values = set(intensities)\n",
    "print(unique_values)\n",
    "zeros = intensities.count(0)\n",
    "ones = intensities.count(1)\n",
    "twos = intensities.count(2)\n",
    "threes = intensities.count(3)\n",
    "total_elements = zeros + ones + twos + threes\n",
    "\n",
    "if len(intensities) == total_elements:\n",
    "    print('yes, seems good')\n",
    "else:\n",
    "    print('No, the numbers did not match')\n",
    "\n",
    "quantity = [zeros, ones, twos, threes]\n",
    "classes = ['Background', 'Right ventricle', 'Myocardium', 'Left ventricle']"
   ]
  },
  {
   "cell_type": "code",
   "execution_count": 136,
   "id": "f75b85d0-18f2-4780-b3fe-27039431fafb",
   "metadata": {
    "tags": []
   },
   "outputs": [
    {
     "data": {
      "image/png": "[encoded data removed]",
      "text/plain": [
       "<Figure size 1500x700 with 1 Axes>"
      ]
     },
     "metadata": {},
     "output_type": "display_data"
    }
   ],
   "source": [
    "# Create a bar plot\n",
    "import matplotlib.pyplot as plt\n",
    "\n",
    "fig = plt.figure(figsize=(15, 7))\n",
    "color = '#B0189C'\n",
    "plt.bar(classes, quantity, color=color, width=0.4)\n",
    "\n",
    "plt.xlabel(\"Segmentation class\", fontsize=14)\n",
    "plt.ylabel(\"Number of voxels\", fontsize=14)\n",
    "plt.title(\"Class distribution of one sample\", fontweight='bold', fontsize=18)\n",
    "\n",
    "#plt.xticks(pixel_value, [str(val) for val in pixel_value])\n",
    "\n",
    "plt.savefig('bar_plot.png', dpi=300, bbox_inches='tight')\n",
    "\n",
    "# Show the plot\n",
    "plt.show()"
   ]
  },
  {
   "cell_type": "code",
   "execution_count": 24,
   "id": "3ae16fe7-8a37-4a6b-ac0f-05c43bf41282",
   "metadata": {},
   "outputs": [
    {
     "name": "stdout",
     "output_type": "stream",
     "text": [
      "50\n"
     ]
    },
    {
     "name": "stderr",
     "output_type": "stream",
     "text": [
      "Loading dataset: 100%|██████████| 50/50 [00:04<00:00, 12.22it/s]\n"
     ]
    }
   ],
   "source": [
    "heart_list_test_sys = build_dict_hearts(data_path, mode='testing', phase='sys')\n",
    "print(len(heart_list_test_sys))\n",
    "# construct CacheDataset from list of paths + transform\n",
    "test_dataset_sys = monai.data.CacheDataset(heart_list_test_sys, transform=val_transform)"
   ]
  },
  {
   "cell_type": "code",
   "execution_count": 13,
   "id": "f348183e-ba0c-4f9c-ad6b-3a7bd0607545",
   "metadata": {
    "tags": []
   },
   "outputs": [
    {
     "name": "stdout",
     "output_type": "stream",
     "text": [
      "50\n"
     ]
    },
    {
     "name": "stderr",
     "output_type": "stream",
     "text": [
      "Loading dataset: 100%|██████████| 50/50 [00:03<00:00, 14.80it/s]\n"
     ]
    }
   ],
   "source": [
    "heart_list_test_dia = build_dict_hearts(data_path, mode='testing', phase='dia')\n",
    "print(len(heart_list_test_dia))\n",
    "# construct CacheDataset from list of paths + transform\n",
    "test_dataset_dia = monai.data.CacheDataset(heart_list_test_dia, transform=val_transform)"
   ]
  },
  {
   "cell_type": "code",
   "execution_count": 14,
   "id": "5b2f8f81-c6d9-416a-b4ac-a643260961e8",
   "metadata": {},
   "outputs": [],
   "source": [
    "val_dataloader_sys = monai.data.DataLoader(test_dataset_sys, batch_size=16, shuffle=True, worker_init_fn=seed_worker)\n",
    "val_dataloader_dia = monai.data.DataLoader(test_dataset_dia, batch_size=16, shuffle=True, worker_init_fn=seed_worker)"
   ]
  },
  {
   "cell_type": "code",
   "execution_count": 25,
   "id": "16f222a5-b302-4cda-81ae-241ae3875ac5",
   "metadata": {},
   "outputs": [
    {
     "name": "stdout",
     "output_type": "stream",
     "text": [
      "The used device is cuda\n"
     ]
    }
   ],
   "source": [
    "device = torch.device(\"cuda\" if torch.cuda.is_available() else \"cpu\")\n",
    "print(f'The used device is {device}')"
   ]
  },
  {
   "cell_type": "code",
   "execution_count": 26,
   "id": "202f7cfe-5acc-4d04-b947-b30b21b06eb1",
   "metadata": {
    "tags": []
   },
   "outputs": [
    {
     "name": "stdout",
     "output_type": "stream",
     "text": [
      "The used device is cuda:1\n"
     ]
    }
   ],
   "source": [
    "if torch.cuda.is_available():\n",
    "    dev = \"cuda:1\"\n",
    "else:\n",
    "    dev = \"cpu\"\n",
    "device = torch.device(dev)\n",
    "print(f'The used device is {device}')"
   ]
  },
  {
   "cell_type": "code",
   "execution_count": 17,
   "id": "a6c67d82-b848-4e51-b14f-d80bfb275585",
   "metadata": {},
   "outputs": [],
   "source": [
    "class_weights = [0.2, 1, 1, 1]\n",
    "loss_function =  monai.losses.DiceLoss(softmax=True, batch=True, weight = class_weights)\n",
    "\n",
    "model = monai.networks.nets.UNet(\n",
    "    spatial_dims=3,\n",
    "    in_channels=1,\n",
    "    out_channels=4,\n",
    "    channels=(8, 16, 32, 64, 128, 256, 512, 1024),\n",
    "    strides=(2, 2, 2, 2, 1, 1, 1),\n",
    "    num_res_units=5,\n",
    ").to(device)\n",
    "\n",
    "optimizer = torch.optim.Adam(model.parameters(), lr=1e-3)"
   ]
  },
  {
   "cell_type": "code",
   "execution_count": 10,
   "id": "b53fba6c-4034-42fc-b59a-0c6986efd414",
   "metadata": {
    "tags": []
   },
   "outputs": [
    {
     "name": "stderr",
     "output_type": "stream",
     "text": [
      "100%|██████████| 20/20 [15:27<00:00, 46.35s/it]\n"
     ]
    },
    {
     "name": "stdout",
     "output_type": "stream",
     "text": [
      "[39.72908  25.64293  23.831211 32.401752]\n"
     ]
    },
    {
     "name": "stderr",
     "output_type": "stream",
     "text": [
      "100%|██████████| 20/20 [15:29<00:00, 46.46s/it]\n"
     ]
    },
    {
     "name": "stdout",
     "output_type": "stream",
     "text": [
      "[39.77222  29.20141  26.51284  34.048744]\n"
     ]
    },
    {
     "name": "stderr",
     "output_type": "stream",
     "text": [
      "100%|██████████| 20/20 [15:15<00:00, 45.79s/it]\n"
     ]
    },
    {
     "name": "stdout",
     "output_type": "stream",
     "text": [
      "[39.864937 30.939178 30.072216 35.998356]\n"
     ]
    },
    {
     "name": "stderr",
     "output_type": "stream",
     "text": [
      "100%|██████████| 20/20 [15:23<00:00, 46.17s/it]\n"
     ]
    },
    {
     "name": "stdout",
     "output_type": "stream",
     "text": [
      "[39.84869  27.959883 29.357191 35.722954]\n"
     ]
    },
    {
     "name": "stderr",
     "output_type": "stream",
     "text": [
      "100%|██████████| 20/20 [15:27<00:00, 46.38s/it]\n"
     ]
    },
    {
     "name": "stdout",
     "output_type": "stream",
     "text": [
      "[39.87841  29.457373 32.27314  33.711674]\n",
      "[0.02241714932024479, 0.01669556424021721, 0.012895901314914226, 0.015255575999617577, 0.01216520443558693]\n"
     ]
    }
   ],
   "source": [
    "# Train with cross-validation\n",
    "\n",
    "from tqdm import tqdm\n",
    "\n",
    "def train_loop(model, train_dataset, optimizer, epochs, device=device):\n",
    "    default_model = model\n",
    "    kf = KFold(n_splits=5)\n",
    "    scores = []\n",
    "    eval_metrics = []\n",
    "\n",
    "    for train_index, val_index in kf.split(range(len(train_dataset))):\n",
    "        train_subset = torch.utils.data.Subset(train_dataset, train_index)\n",
    "        val_subset = torch.utils.data.Subset(train_dataset, val_index)\n",
    "\n",
    "        train_loader = monai.data.DataLoader(train_subset, batch_size=10, shuffle=True)\n",
    "        val_loader = monai.data.DataLoader(val_subset, batch_size=10, shuffle=False)\n",
    "\n",
    "        model = default_model\n",
    "        for epoch in tqdm(range(epochs)):\n",
    "            model.train()\n",
    "\n",
    "            for batch in train_loader:\n",
    "                optimizer.zero_grad()\n",
    "                images = batch['img'].float().to(device)\n",
    "                labels = batch['mask'].float().to(device)\n",
    "                labels = torch.nn.functional.one_hot(labels.long(), num_classes=4)\n",
    "                labels = torch.transpose(labels, -1, 1).squeeze(-1)\n",
    "                output = model(images)\n",
    "                loss = loss_function(output, labels)\n",
    "                loss.backward()\n",
    "                optimizer.step()\n",
    "\n",
    "        with torch.no_grad():\n",
    "            # validation loop\n",
    "            model.eval()\n",
    "            val_loss = 0\n",
    "            mean_value = 0\n",
    "            for batch in val_loader:\n",
    "                images = batch['img'].float().to(device)\n",
    "                labels = batch['mask'].float().to(device)\n",
    "                labels = torch.nn.functional.one_hot(labels.long(), num_classes=4)\n",
    "                labels = torch.transpose(labels, -1, 1).squeeze(-1)\n",
    "                output = model(images)\n",
    "                loss = loss_function(output, labels).item()\n",
    "                val_loss += loss\n",
    "\n",
    "                softmax = torch.nn.Softmax(dim=1)\n",
    "                mask_outputs = output.float()\n",
    "                mask_outputs = softmax(mask_outputs)\n",
    "                argmax_indices = torch.argmax(mask_outputs, dim=1)\n",
    "                reconstructed_images = argmax_indices.long()\n",
    "                reconstructed_images = torch.nn.functional.one_hot(reconstructed_images, num_classes=4)\n",
    "                reconstructed_images = reconstructed_images.permute(0, 4, 1, 2, 3) \n",
    "                metric_fn = monai.metrics.DiceMetric(include_background=True, reduction=\"mean\")\n",
    "                dice_score = metric_fn(reconstructed_images, labels).cpu().numpy()\n",
    "                mean_value += dice_score\n",
    "\n",
    "            len_val = 40\n",
    "            mean_value = np.sum(mean_value, axis=0)\n",
    "            print(mean_value)\n",
    "            mean_value = mean_value / len_val\n",
    "            avg_val_loss = val_loss / len_val\n",
    "            scores.append(avg_val_loss)\n",
    "            eval_metrics.append(mean_value)\n",
    "\n",
    "    return scores, eval_metrics\n",
    "\n",
    "n_epochs = 20\n",
    "scores, eval_metrics = train_loop(model, train_dataset, optimizer, epochs=n_epochs)\n",
    "print(scores)"
   ]
  },
  {
   "cell_type": "code",
   "execution_count": 11,
   "id": "76cec001-ac17-4a0d-a181-91d9e1baff1b",
   "metadata": {
    "tags": []
   },
   "outputs": [
    {
     "name": "stdout",
     "output_type": "stream",
     "text": [
      "Mean 0: 0.9954667\n",
      "Standard Deviation 0: 0.00144891\n",
      "Mean 1: 0.7160039\n",
      "Standard Deviation 1: 0.044320557\n",
      "Mean 2: 0.7102329\n",
      "Standard Deviation 2: 0.073440894\n",
      "Mean 3: 0.85941744\n",
      "Standard Deviation 3: 0.03333992\n"
     ]
    }
   ],
   "source": [
    "values = []\n",
    "for i in range(4):\n",
    "    for arr in eval_metrics:\n",
    "        values.append(arr[i])\n",
    "        \n",
    "# Given values\n",
    "#values_4 = [0.65525633, 0.69911605, 0.7790867, 0.65918636, 0.7298845]\n",
    "\n",
    "        # Calculate mean and standard deviation\n",
    "    mean_4 = np.mean(values)\n",
    "    std_dev_4 = np.std(values)\n",
    "\n",
    "    print(f'Mean {i}:', mean_4)\n",
    "    print(f'Standard Deviation {i}:', std_dev_4)\n",
    "    values = []"
   ]
  },
  {
   "cell_type": "code",
   "execution_count": 14,
   "id": "a4235c2d-68f7-4df0-8110-cfc7f458572c",
   "metadata": {
    "tags": []
   },
   "outputs": [],
   "source": [
    "# Use a scheduler\n",
    "scheduler = torch.optim.lr_scheduler.StepLR(optimizer, step_size=50, gamma=0.1)"
   ]
  },
  {
   "cell_type": "code",
   "execution_count": 2,
   "id": "b31f6b04-ead0-4930-ad72-1a55cab53d1b",
   "metadata": {
    "tags": []
   },
   "outputs": [
    {
     "name": "stderr",
     "output_type": "stream",
     "text": [
      "\u001b[34m\u001b[1mwandb\u001b[0m: Currently logged in as: \u001b[33mfrida-lofgren\u001b[0m (\u001b[33mmedical_images_frida\u001b[0m). Use \u001b[1m`wandb login --relogin`\u001b[0m to force relogin\n"
     ]
    },
    {
     "data": {
      "text/plain": [
       "True"
      ]
     },
     "execution_count": 2,
     "metadata": {},
     "output_type": "execute_result"
    }
   ],
   "source": [
    "import wandb\n",
    "wandb.login()"
   ]
  },
  {
   "cell_type": "code",
   "execution_count": 18,
   "id": "43955465-1108-4465-9edd-81b51deb1524",
   "metadata": {
    "tags": []
   },
   "outputs": [
    {
     "data": {
      "text/html": [
       "wandb version 0.17.4 is available!  To upgrade, please run:\n",
       " $ pip install wandb --upgrade"
      ],
      "text/plain": [
       "<IPython.core.display.HTML object>"
      ]
     },
     "metadata": {},
     "output_type": "display_data"
    },
    {
     "data": {
      "text/html": [
       "Tracking run with wandb version 0.17.0"
      ],
      "text/plain": [
       "<IPython.core.display.HTML object>"
      ]
     },
     "metadata": {},
     "output_type": "display_data"
    },
    {
     "data": {
      "text/html": [
       "Run data is saved locally in <code>/home/jovyan/Medical images/wandb/run-20240710_090030-kuq00bq3</code>"
      ],
      "text/plain": [
       "<IPython.core.display.HTML object>"
      ]
     },
     "metadata": {},
     "output_type": "display_data"
    },
    {
     "data": {
      "text/html": [
       "Syncing run <strong><a href='https://wandb.ai/medical_images_frida/ACDC_segmentation/runs/kuq00bq3' target=\"_blank\">test_20</a></strong> to <a href='https://wandb.ai/medical_images_frida/ACDC_segmentation' target=\"_blank\">Weights & Biases</a> (<a href='https://wandb.me/run' target=\"_blank\">docs</a>)<br/>"
      ],
      "text/plain": [
       "<IPython.core.display.HTML object>"
      ]
     },
     "metadata": {},
     "output_type": "display_data"
    },
    {
     "data": {
      "text/html": [
       " View project at <a href='https://wandb.ai/medical_images_frida/ACDC_segmentation' target=\"_blank\">https://wandb.ai/medical_images_frida/ACDC_segmentation</a>"
      ],
      "text/plain": [
       "<IPython.core.display.HTML object>"
      ]
     },
     "metadata": {},
     "output_type": "display_data"
    },
    {
     "data": {
      "text/html": [
       " View run at <a href='https://wandb.ai/medical_images_frida/ACDC_segmentation/runs/kuq00bq3' target=\"_blank\">https://wandb.ai/medical_images_frida/ACDC_segmentation/runs/kuq00bq3</a>"
      ],
      "text/plain": [
       "<IPython.core.display.HTML object>"
      ]
     },
     "metadata": {},
     "output_type": "display_data"
    },
    {
     "name": "stderr",
     "output_type": "stream",
     "text": [
      "100%|██████████| 75/75 [1:22:58<00:00, 66.39s/it]\n"
     ]
    },
    {
     "data": {
      "application/vnd.jupyter.widget-view+json": {
       "model_id": "",
       "version_major": 2,
       "version_minor": 0
      },
      "text/plain": [
       "VBox(children=(Label(value='1.428 MB of 1.428 MB uploaded\\r'), FloatProgress(value=1.0, max=1.0)))"
      ]
     },
     "metadata": {},
     "output_type": "display_data"
    },
    {
     "data": {
      "text/html": [
       "<style>\n",
       "    table.wandb td:nth-child(1) { padding: 0 10px; text-align: left ; width: auto;} td:nth-child(2) {text-align: left ; width: 100%}\n",
       "    .wandb-row { display: flex; flex-direction: row; flex-wrap: wrap; justify-content: flex-start; width: 100% }\n",
       "    .wandb-col { display: flex; flex-direction: column; flex-basis: 100%; flex: 1; padding: 10px; }\n",
       "    </style>\n",
       "<div class=\"wandb-row\"><div class=\"wandb-col\"><h3>Run history:</h3><br/><table class=\"wandb\"><tr><td>epoch</td><td>▁▁▁▁▂▂▂▂▂▃▃▃▃▃▃▄▄▄▄▄▅▅▅▅▅▅▆▆▆▆▆▆▇▇▇▇▇███</td></tr><tr><td>train_loss</td><td>██▇▆▄▃▃▂▂▂▂▂▂▂▂▂▂▂▂▁▁▁▁▁▁▁▁▁▁▁▁▁▁▁▁▁▁▁▁▁</td></tr><tr><td>val_loss</td><td>██▇▆▄▄▃▂▃▂▂▂▂▂▂▂▂▂▂▂▁▁▁▁▂▁▁▁▁▁▁▁▁▁▁▁▁▁▁▁</td></tr></table><br/></div><div class=\"wandb-col\"><h3>Run summary:</h3><br/><table class=\"wandb\"><tr><td>epoch</td><td>74</td></tr><tr><td>train_loss</td><td>0.11271</td></tr><tr><td>val_loss</td><td>0.20038</td></tr></table><br/></div></div>"
      ],
      "text/plain": [
       "<IPython.core.display.HTML object>"
      ]
     },
     "metadata": {},
     "output_type": "display_data"
    },
    {
     "data": {
      "text/html": [
       " View run <strong style=\"color:#cdcd00\">test_20</strong> at: <a href='https://wandb.ai/medical_images_frida/ACDC_segmentation/runs/kuq00bq3' target=\"_blank\">https://wandb.ai/medical_images_frida/ACDC_segmentation/runs/kuq00bq3</a><br/> View project at: <a href='https://wandb.ai/medical_images_frida/ACDC_segmentation' target=\"_blank\">https://wandb.ai/medical_images_frida/ACDC_segmentation</a><br/>Synced 5 W&B file(s), 439 media file(s), 0 artifact file(s) and 0 other file(s)"
      ],
      "text/plain": [
       "<IPython.core.display.HTML object>"
      ]
     },
     "metadata": {},
     "output_type": "display_data"
    },
    {
     "data": {
      "text/html": [
       "Find logs at: <code>./wandb/run-20240710_090030-kuq00bq3/logs</code>"
      ],
      "text/plain": [
       "<IPython.core.display.HTML object>"
      ]
     },
     "metadata": {},
     "output_type": "display_data"
    }
   ],
   "source": [
    "run = wandb.init(\n",
    "    project='ACDC_segmentation',\n",
    "    name='test_20',\n",
    "    config={\n",
    "        'loss function': str(loss_function),\n",
    "        'lr': optimizer.param_groups[0][\"lr\"],\n",
    "        'batch_size': train_dataloader.batch_size,\n",
    "    }\n",
    ")\n",
    "\n",
    "run_id = run.id # We remember here the run ID to be able to write the evaluation metrics\n",
    "\n",
    "def wandb_masks(mask_output, mask_gt, epoch):\n",
    "    \"\"\" Function that generates a mask dictionary in format that W&B requires \"\"\"\n",
    "    # Apply softmax to output channels\n",
    "    softmax = torch.nn.Softmax(dim=0)\n",
    "    mask_output = mask_output.float()\n",
    "    mask_output = softmax(mask_output)\n",
    "\n",
    "    # Convert the channels to one image\n",
    "    argmax_indices = torch.argmax(mask_output, dim=0)\n",
    "    reconstructed_image = argmax_indices.long()\n",
    "\n",
    "    # Choose a slice\n",
    "    reconstructed_image = reconstructed_image[:, :, 8]\n",
    "    mask_gt = mask_gt[:, :, :, 8]\n",
    "    # Transform masks to numpy arrays on CPU\n",
    "    # Note: .squeeze() removes all dimensions with a size of 1 (here, it makes the tensors 2-dimensional)\n",
    "    # Note: .detach() removes a tensor from the computational graph to prevent gradient computation for it\n",
    "    mask_output = reconstructed_image.squeeze().detach().cpu().numpy()\n",
    "    mask_gt = mask_gt.squeeze().detach().cpu().numpy()\n",
    "\n",
    "\n",
    "    # Create mask dictionary with class label and insert masks\n",
    "    class_labels = {1: 'Right ventricle',\n",
    "                    2: 'Myocardium',\n",
    "                    3: 'Left ventricle'}\n",
    "    masks = {\n",
    "        'predictions': {'mask_data': mask_output, 'class_labels': class_labels},\n",
    "        'ground truth': {'mask_data': mask_gt, 'class_labels': class_labels}\n",
    "    }\n",
    "    return masks\n",
    "\n",
    "\n",
    "def log_to_wandb(epoch, train_loss, val_loss, batch_data, outputs):\n",
    "    \"\"\" Function that logs ongoing training variables to W&B \"\"\"\n",
    "\n",
    "    # Create list of images that have segmentation masks for model output and ground truth\n",
    "    log_imgs = [wandb.Image(img[:, :, :, 8], masks=wandb_masks(mask_output, mask_gt, epoch)) for img, mask_output,\n",
    "                mask_gt in zip(batch_data['img'], outputs, batch_data['mask'])]\n",
    "\n",
    "    # Send epoch, losses and images to W&B\n",
    "    wandb.log({'epoch': epoch, 'train_loss': train_loss, 'val_loss': val_loss, 'results': log_imgs})\n",
    "\n",
    "\n",
    "def train_loop(model, train_dataloader, val_dataloader_sys, val_dataloader_dia, optimizer, epochs, device=device, val_freq=1):\n",
    "    for epoch in tqdm(range(epochs)):\n",
    "        train_loss = 0\n",
    "        val_loss = 0\n",
    "        model.train()\n",
    "        steps = 0\n",
    "        epoch_loss = 0\n",
    "\n",
    "        for batch in train_dataloader:\n",
    "            optimizer.zero_grad()\n",
    "            images = batch['img'].float().to(device)\n",
    "            labels = batch['mask'].float().to(device)\n",
    "            labels = torch.nn.functional.one_hot(labels.long(), num_classes=4)\n",
    "            labels = torch.transpose(labels, -1, 1).squeeze(-1)\n",
    "            output = model(images)\n",
    "            loss = loss_function(output, labels)\n",
    "            epoch_loss += loss.item()\n",
    "            loss.backward()\n",
    "            optimizer.step()\n",
    "            steps += 1\n",
    "\n",
    "        train_loss = epoch_loss/steps\n",
    "\n",
    "        # validation loop\n",
    "        if epoch % val_freq == 0:\n",
    "            with torch.no_grad():\n",
    "                steps = 0\n",
    "                val_epoch_loss = 0\n",
    "                model.eval()\n",
    "                for batch in val_dataloader_sys:\n",
    "                    images = batch['img'].float().to(device)\n",
    "                    labels = batch['mask'].float().to(device)\n",
    "                    labels = torch.nn.functional.one_hot(labels.long(), num_classes=4)\n",
    "                    labels = torch.transpose(labels, -1, 1).squeeze(-1)\n",
    "                    output = model(images)\n",
    "                    loss = loss_function(output, labels).item()\n",
    "                    val_epoch_loss += loss\n",
    "                    steps += 1\n",
    "                for batch in val_dataloader_dia:\n",
    "                    images = batch['img'].float().to(device)\n",
    "                    labels = batch['mask'].float().to(device)\n",
    "                    labels = torch.nn.functional.one_hot(labels.long(), num_classes=4)\n",
    "                    labels = torch.transpose(labels, -1, 1).squeeze(-1)\n",
    "                    output = model(images)\n",
    "                    loss = loss_function(output, labels).item()\n",
    "                    val_epoch_loss += loss\n",
    "                    steps += 1\n",
    "                val_loss = val_epoch_loss/steps\n",
    "\n",
    "        log_to_wandb(epoch, train_loss, val_loss, batch, output)\n",
    "\n",
    "\n",
    "val_freq = 1\n",
    "n_epochs = 75\n",
    "train_loop(model, train_dataloader, val_dataloader_sys, val_dataloader_dia, optimizer, epochs=n_epochs, val_freq=val_freq)\n",
    "\n",
    "# Store the network parameters\n",
    "torch.save(model.state_dict(), r'trainedUNet_20.pt')\n",
    "run.finish()"
   ]
  },
  {
   "cell_type": "code",
   "execution_count": 29,
   "id": "7eabf4b3-958b-4e41-b7a4-9488ab8f2aa2",
   "metadata": {},
   "outputs": [
    {
     "name": "stderr",
     "output_type": "stream",
     "text": [
      "Loading dataset: 100%|██████████| 50/50 [00:04<00:00, 11.79it/s]\n",
      "Loading dataset: 100%|██████████| 50/50 [00:04<00:00, 10.78it/s]\n"
     ]
    }
   ],
   "source": [
    "test_dict_sys = build_dict_hearts(data_path, mode='testing', phase='sys')\n",
    "test_dict_dia = build_dict_hearts(data_path, mode='testing', phase='dia')\n",
    "test_set_sys = monai.data.CacheDataset(test_dict_sys, transform=test_transform)\n",
    "test_set_dia = monai.data.CacheDataset(test_dict_dia, transform=test_transform)\n",
    "test_loader_sys = monai.data.DataLoader(test_set_sys, batch_size=1, shuffle=False, worker_init_fn=seed_worker)\n",
    "test_loader_dia = monai.data.DataLoader(test_set_dia, batch_size=1, shuffle=False, worker_init_fn=seed_worker)"
   ]
  },
  {
   "cell_type": "code",
   "execution_count": 37,
   "id": "4f609de2-748f-463b-8218-89abadfeb3a0",
   "metadata": {
    "tags": []
   },
   "outputs": [],
   "source": [
    "model = monai.networks.nets.UNet(\n",
    "    spatial_dims=3,\n",
    "    in_channels=1,\n",
    "    out_channels=4,\n",
    "    channels=(8, 16, 32, 64, 128, 256, 512, 1024),\n",
    "    strides=(2, 2, 2, 2, 1, 1, 1),\n",
    "    num_res_units=5,\n",
    ").to(device)"
   ]
  },
  {
   "cell_type": "code",
   "execution_count": 38,
   "id": "989ec350-ac12-48ca-98c0-9f4d542f4771",
   "metadata": {
    "tags": []
   },
   "outputs": [
    {
     "data": {
      "text/plain": [
       "<All keys matched successfully>"
      ]
     },
     "execution_count": 38,
     "metadata": {},
     "output_type": "execute_result"
    }
   ],
   "source": [
    "# Load the state dictionary\n",
    "state_dict = torch.load(r'/home/jovyan/Medical images/trainedUNet_20.pt')\n",
    "# Load state dict into model\n",
    "model.load_state_dict(state_dict)"
   ]
  },
  {
   "cell_type": "code",
   "execution_count": 51,
   "id": "ea0663ac-0498-47aa-8319-95ee9f215818",
   "metadata": {},
   "outputs": [],
   "source": [
    "from monai.inferers import SlidingWindowInferer\n",
    "\n",
    "def compute_metric(dataloader, model, metric_fn, phase):\n",
    "    \"\"\"\n",
    "    This function computes the average value of a metric for a data set.\n",
    "    \n",
    "    Args:\n",
    "        dataloader (monai.data.DataLoader): dataloader with batch size 1.\n",
    "        model (torch.nn.Module): trained model to evaluate.\n",
    "        metric_fn (function): function computing the metric value from two tensors:\n",
    "            - a batch of outputs,\n",
    "            - the corresponding batch of ground truth masks.\n",
    "        \n",
    "    Returns:\n",
    "        a list with mean value for each class\n",
    "    \"\"\"\n",
    "    model.eval()\n",
    "    \n",
    "    mean_value = 0\n",
    "    sample_counter = 0\n",
    "    if phase == 'sys':\n",
    "        output_folder = r'/home/jovyan/Medical images/segmented_sys'\n",
    "    elif phase == 'dia':\n",
    "        output_folder = r'/home/jovyan/Medical images/segmented_dia'\n",
    "\n",
    "    inferer = monai.inferers.SlidingWindowInferer(roi_size=[256, 256, 16])\n",
    "\n",
    "    for sample in dataloader:\n",
    "        with torch.no_grad():\n",
    "            images = sample['img'].float().to(device)\n",
    "            labels_gt = sample['mask'].float().to(device)\n",
    "            original_size = sample['original_size']\n",
    "            print(labels_gt.shape)\n",
    "            labels_gt = labels_gt[:,:,0:original_size[0],0:original_size[1], 0:original_size[2]].float()\n",
    "            labels = torch.nn.functional.one_hot(labels_gt.long(), num_classes=4)\n",
    "            labels = torch.transpose(labels, -1, 1).squeeze(-1)\n",
    "            output = inferer(images, network=model)\n",
    "            cropped_output = output[:,:,0:original_size[0],0:original_size[1], 0:original_size[2]].float()\n",
    "\n",
    "            # Postprocess output\n",
    "            softmax = torch.nn.Softmax(dim=1)\n",
    "            mask_output = cropped_output.float()\n",
    "            mask_output = softmax(mask_output)\n",
    "            argmax_indices = torch.argmax(mask_output, dim=1)\n",
    "            reconstructed_image = argmax_indices.long()\n",
    "            \n",
    "            one_hot_image = torch.nn.functional.one_hot(reconstructed_image, num_classes=4)\n",
    "            print(f'Before permute, img: {one_hot_image.shape}')\n",
    "            one_hot_image = one_hot_image.permute(0, 4, 1, 2, 3)\n",
    "            print(f'After permute, img: {one_hot_image.shape}')\n",
    "            print(f'Labels: {labels.shape}')\n",
    "            \n",
    "            dice_score = metric_fn(one_hot_image, labels).cpu().numpy()\n",
    "            mean_value += dice_score\n",
    "\n",
    "            # Create a NIfTI image object\n",
    "            affine = np.eye(4)\n",
    "            save_images = reconstructed_image[0,:,:,:].cpu().numpy().astype(np.float32)\n",
    "            save_labels = labels_gt[0,0,:,:,:].cpu().numpy().astype(np.float32)\n",
    "            convert_img = nib.Nifti1Image(save_images, affine)\n",
    "            convert_label = nib.Nifti1Image(save_labels, affine)\n",
    "\n",
    "            # Save the image to a file\n",
    "            output_filename = f'patient_{sample_counter}.nii'\n",
    "            labels_filename = f'patient_{sample_counter}_gt.nii'\n",
    "            sample_counter += 1\n",
    "            output_file_path = os.path.join(output_folder, output_filename)\n",
    "            labels_file_path = os.path.join(output_folder, labels_filename)\n",
    "            nib.save(convert_img, output_file_path)\n",
    "            nib.save(convert_label, labels_file_path)\n",
    "            print(f'Saved image to {output_file_path}')\n",
    "            print(f'Saved image to {labels_file_path}')\n",
    "\n",
    "    len_val = len(dataloader)\n",
    "    print(mean_value)\n",
    "    mean_value = mean_value / len_val\n",
    "    return mean_value"
   ]
  },
  {
   "cell_type": "code",
   "execution_count": 52,
   "id": "8fbde8e0-8a7a-48c4-8142-8a7ddac3840a",
   "metadata": {},
   "outputs": [
    {
     "name": "stdout",
     "output_type": "stream",
     "text": [
      "torch.Size([1, 1, 256, 256, 16])\n",
      "Before permute, img: torch.Size([1, 216, 256, 9, 4])\n",
      "After permute, img: torch.Size([1, 4, 216, 256, 9])\n",
      "Labels: torch.Size([1, 4, 216, 256, 9])\n",
      "Saved image to /home/jovyan/Medical images/segmented_sys/patient_0.nii\n",
      "Saved image to /home/jovyan/Medical images/segmented_sys/patient_0_gt.nii\n",
      "torch.Size([1, 1, 256, 256, 16])\n",
      "Before permute, img: torch.Size([1, 224, 180, 8, 4])\n",
      "After permute, img: torch.Size([1, 4, 224, 180, 8])\n",
      "Labels: torch.Size([1, 4, 224, 180, 8])\n",
      "Saved image to /home/jovyan/Medical images/segmented_sys/patient_1.nii\n",
      "Saved image to /home/jovyan/Medical images/segmented_sys/patient_1_gt.nii\n",
      "torch.Size([1, 1, 256, 256, 16])\n",
      "Before permute, img: torch.Size([1, 240, 256, 10, 4])\n",
      "After permute, img: torch.Size([1, 4, 240, 256, 10])\n",
      "Labels: torch.Size([1, 4, 240, 256, 10])\n",
      "Saved image to /home/jovyan/Medical images/segmented_sys/patient_2.nii\n",
      "Saved image to /home/jovyan/Medical images/segmented_sys/patient_2_gt.nii\n",
      "torch.Size([1, 1, 256, 256, 16])\n",
      "Before permute, img: torch.Size([1, 256, 216, 9, 4])\n",
      "After permute, img: torch.Size([1, 4, 256, 216, 9])\n",
      "Labels: torch.Size([1, 4, 256, 216, 9])\n",
      "Saved image to /home/jovyan/Medical images/segmented_sys/patient_3.nii\n",
      "Saved image to /home/jovyan/Medical images/segmented_sys/patient_3_gt.nii\n",
      "torch.Size([1, 1, 256, 256, 16])\n",
      "Before permute, img: torch.Size([1, 232, 256, 10, 4])\n",
      "After permute, img: torch.Size([1, 4, 232, 256, 10])\n",
      "Labels: torch.Size([1, 4, 232, 256, 10])\n",
      "Saved image to /home/jovyan/Medical images/segmented_sys/patient_4.nii\n",
      "Saved image to /home/jovyan/Medical images/segmented_sys/patient_4_gt.nii\n",
      "torch.Size([1, 1, 256, 256, 16])\n",
      "Before permute, img: torch.Size([1, 208, 256, 9, 4])\n",
      "After permute, img: torch.Size([1, 4, 208, 256, 9])\n",
      "Labels: torch.Size([1, 4, 208, 256, 9])\n",
      "Saved image to /home/jovyan/Medical images/segmented_sys/patient_5.nii\n",
      "Saved image to /home/jovyan/Medical images/segmented_sys/patient_5_gt.nii\n",
      "torch.Size([1, 1, 256, 256, 16])\n",
      "Before permute, img: torch.Size([1, 216, 256, 9, 4])\n",
      "After permute, img: torch.Size([1, 4, 216, 256, 9])\n",
      "Labels: torch.Size([1, 4, 216, 256, 9])\n",
      "Saved image to /home/jovyan/Medical images/segmented_sys/patient_6.nii\n",
      "Saved image to /home/jovyan/Medical images/segmented_sys/patient_6_gt.nii\n",
      "torch.Size([1, 1, 256, 256, 16])\n",
      "Before permute, img: torch.Size([1, 216, 256, 8, 4])\n",
      "After permute, img: torch.Size([1, 4, 216, 256, 8])\n",
      "Labels: torch.Size([1, 4, 216, 256, 8])\n",
      "Saved image to /home/jovyan/Medical images/segmented_sys/patient_7.nii\n",
      "Saved image to /home/jovyan/Medical images/segmented_sys/patient_7_gt.nii\n",
      "torch.Size([1, 1, 256, 256, 16])\n",
      "Before permute, img: torch.Size([1, 248, 256, 10, 4])\n",
      "After permute, img: torch.Size([1, 4, 248, 256, 10])\n",
      "Labels: torch.Size([1, 4, 248, 256, 10])\n",
      "Saved image to /home/jovyan/Medical images/segmented_sys/patient_8.nii\n",
      "Saved image to /home/jovyan/Medical images/segmented_sys/patient_8_gt.nii\n",
      "torch.Size([1, 1, 256, 256, 16])\n",
      "Before permute, img: torch.Size([1, 208, 174, 10, 4])\n",
      "After permute, img: torch.Size([1, 4, 208, 174, 10])\n",
      "Labels: torch.Size([1, 4, 208, 174, 10])\n",
      "Saved image to /home/jovyan/Medical images/segmented_sys/patient_9.nii\n",
      "Saved image to /home/jovyan/Medical images/segmented_sys/patient_9_gt.nii\n",
      "torch.Size([1, 1, 256, 256, 16])\n",
      "Before permute, img: torch.Size([1, 216, 256, 9, 4])\n",
      "After permute, img: torch.Size([1, 4, 216, 256, 9])\n",
      "Labels: torch.Size([1, 4, 216, 256, 9])\n",
      "Saved image to /home/jovyan/Medical images/segmented_sys/patient_10.nii\n",
      "Saved image to /home/jovyan/Medical images/segmented_sys/patient_10_gt.nii\n",
      "torch.Size([1, 1, 256, 256, 16])\n",
      "Before permute, img: torch.Size([1, 232, 256, 10, 4])\n",
      "After permute, img: torch.Size([1, 4, 232, 256, 10])\n",
      "Labels: torch.Size([1, 4, 232, 256, 10])\n",
      "Saved image to /home/jovyan/Medical images/segmented_sys/patient_11.nii\n",
      "Saved image to /home/jovyan/Medical images/segmented_sys/patient_11_gt.nii\n",
      "torch.Size([1, 1, 256, 256, 16])\n",
      "Before permute, img: torch.Size([1, 216, 256, 8, 4])\n",
      "After permute, img: torch.Size([1, 4, 216, 256, 8])\n",
      "Labels: torch.Size([1, 4, 216, 256, 8])\n",
      "Saved image to /home/jovyan/Medical images/segmented_sys/patient_12.nii\n",
      "Saved image to /home/jovyan/Medical images/segmented_sys/patient_12_gt.nii\n",
      "torch.Size([1, 1, 256, 256, 16])\n",
      "Before permute, img: torch.Size([1, 214, 256, 10, 4])\n",
      "After permute, img: torch.Size([1, 4, 214, 256, 10])\n",
      "Labels: torch.Size([1, 4, 214, 256, 10])\n",
      "Saved image to /home/jovyan/Medical images/segmented_sys/patient_13.nii\n",
      "Saved image to /home/jovyan/Medical images/segmented_sys/patient_13_gt.nii\n",
      "torch.Size([1, 1, 256, 256, 16])\n",
      "Before permute, img: torch.Size([1, 192, 256, 8, 4])\n",
      "After permute, img: torch.Size([1, 4, 192, 256, 8])\n",
      "Labels: torch.Size([1, 4, 192, 256, 8])\n",
      "Saved image to /home/jovyan/Medical images/segmented_sys/patient_14.nii\n",
      "Saved image to /home/jovyan/Medical images/segmented_sys/patient_14_gt.nii\n",
      "torch.Size([1, 1, 256, 288, 16])\n",
      "Before permute, img: torch.Size([1, 232, 288, 15, 4])\n",
      "After permute, img: torch.Size([1, 4, 232, 288, 15])\n",
      "Labels: torch.Size([1, 4, 232, 288, 15])\n",
      "Saved image to /home/jovyan/Medical images/segmented_sys/patient_15.nii\n",
      "Saved image to /home/jovyan/Medical images/segmented_sys/patient_15_gt.nii\n",
      "torch.Size([1, 1, 256, 256, 16])\n",
      "Before permute, img: torch.Size([1, 232, 256, 9, 4])\n",
      "After permute, img: torch.Size([1, 4, 232, 256, 9])\n",
      "Labels: torch.Size([1, 4, 232, 256, 9])\n",
      "Saved image to /home/jovyan/Medical images/segmented_sys/patient_16.nii\n",
      "Saved image to /home/jovyan/Medical images/segmented_sys/patient_16_gt.nii\n",
      "torch.Size([1, 1, 256, 256, 16])\n",
      "Before permute, img: torch.Size([1, 232, 256, 10, 4])\n",
      "After permute, img: torch.Size([1, 4, 232, 256, 10])\n",
      "Labels: torch.Size([1, 4, 232, 256, 10])\n",
      "Saved image to /home/jovyan/Medical images/segmented_sys/patient_17.nii\n",
      "Saved image to /home/jovyan/Medical images/segmented_sys/patient_17_gt.nii\n",
      "torch.Size([1, 1, 256, 256, 16])\n",
      "Before permute, img: torch.Size([1, 214, 256, 8, 4])\n",
      "After permute, img: torch.Size([1, 4, 214, 256, 8])\n",
      "Labels: torch.Size([1, 4, 214, 256, 8])\n",
      "Saved image to /home/jovyan/Medical images/segmented_sys/patient_18.nii\n",
      "Saved image to /home/jovyan/Medical images/segmented_sys/patient_18_gt.nii\n",
      "torch.Size([1, 1, 256, 256, 16])\n",
      "Before permute, img: torch.Size([1, 256, 216, 10, 4])\n",
      "After permute, img: torch.Size([1, 4, 256, 216, 10])\n",
      "Labels: torch.Size([1, 4, 256, 216, 10])\n",
      "Saved image to /home/jovyan/Medical images/segmented_sys/patient_19.nii\n",
      "Saved image to /home/jovyan/Medical images/segmented_sys/patient_19_gt.nii\n",
      "torch.Size([1, 1, 256, 256, 16])\n",
      "Before permute, img: torch.Size([1, 216, 256, 8, 4])\n",
      "After permute, img: torch.Size([1, 4, 216, 256, 8])\n",
      "Labels: torch.Size([1, 4, 216, 256, 8])\n",
      "Saved image to /home/jovyan/Medical images/segmented_sys/patient_20.nii\n",
      "Saved image to /home/jovyan/Medical images/segmented_sys/patient_20_gt.nii\n",
      "torch.Size([1, 1, 256, 256, 16])\n",
      "Before permute, img: torch.Size([1, 256, 216, 10, 4])\n",
      "After permute, img: torch.Size([1, 4, 256, 216, 10])\n",
      "Labels: torch.Size([1, 4, 256, 216, 10])\n",
      "Saved image to /home/jovyan/Medical images/segmented_sys/patient_21.nii\n",
      "Saved image to /home/jovyan/Medical images/segmented_sys/patient_21_gt.nii\n",
      "torch.Size([1, 1, 256, 256, 20])\n",
      "Before permute, img: torch.Size([1, 174, 208, 20, 4])\n",
      "After permute, img: torch.Size([1, 4, 174, 208, 20])\n",
      "Labels: torch.Size([1, 4, 174, 208, 20])\n",
      "Saved image to /home/jovyan/Medical images/segmented_sys/patient_22.nii\n",
      "Saved image to /home/jovyan/Medical images/segmented_sys/patient_22_gt.nii\n",
      "torch.Size([1, 1, 256, 256, 16])\n",
      "Before permute, img: torch.Size([1, 216, 256, 9, 4])\n",
      "After permute, img: torch.Size([1, 4, 216, 256, 9])\n",
      "Labels: torch.Size([1, 4, 216, 256, 9])\n",
      "Saved image to /home/jovyan/Medical images/segmented_sys/patient_23.nii\n",
      "Saved image to /home/jovyan/Medical images/segmented_sys/patient_23_gt.nii\n",
      "torch.Size([1, 1, 256, 256, 16])\n",
      "Before permute, img: torch.Size([1, 216, 256, 9, 4])\n",
      "After permute, img: torch.Size([1, 4, 216, 256, 9])\n",
      "Labels: torch.Size([1, 4, 216, 256, 9])\n",
      "Saved image to /home/jovyan/Medical images/segmented_sys/patient_24.nii\n",
      "Saved image to /home/jovyan/Medical images/segmented_sys/patient_24_gt.nii\n",
      "torch.Size([1, 1, 256, 256, 16])\n",
      "Before permute, img: torch.Size([1, 256, 216, 10, 4])\n",
      "After permute, img: torch.Size([1, 4, 256, 216, 10])\n",
      "Labels: torch.Size([1, 4, 256, 216, 10])\n",
      "Saved image to /home/jovyan/Medical images/segmented_sys/patient_25.nii\n",
      "Saved image to /home/jovyan/Medical images/segmented_sys/patient_25_gt.nii\n",
      "torch.Size([1, 1, 256, 256, 16])\n",
      "Before permute, img: torch.Size([1, 216, 256, 10, 4])\n",
      "After permute, img: torch.Size([1, 4, 216, 256, 10])\n",
      "Labels: torch.Size([1, 4, 216, 256, 10])\n",
      "Saved image to /home/jovyan/Medical images/segmented_sys/patient_26.nii\n",
      "Saved image to /home/jovyan/Medical images/segmented_sys/patient_26_gt.nii\n",
      "torch.Size([1, 1, 256, 256, 16])\n",
      "Before permute, img: torch.Size([1, 216, 256, 11, 4])\n",
      "After permute, img: torch.Size([1, 4, 216, 256, 11])\n",
      "Labels: torch.Size([1, 4, 216, 256, 11])\n",
      "Saved image to /home/jovyan/Medical images/segmented_sys/patient_27.nii\n",
      "Saved image to /home/jovyan/Medical images/segmented_sys/patient_27_gt.nii\n",
      "torch.Size([1, 1, 256, 256, 16])\n",
      "Before permute, img: torch.Size([1, 224, 256, 10, 4])\n",
      "After permute, img: torch.Size([1, 4, 224, 256, 10])\n",
      "Labels: torch.Size([1, 4, 224, 256, 10])\n",
      "Saved image to /home/jovyan/Medical images/segmented_sys/patient_28.nii\n",
      "Saved image to /home/jovyan/Medical images/segmented_sys/patient_28_gt.nii\n",
      "torch.Size([1, 1, 256, 256, 16])\n",
      "Before permute, img: torch.Size([1, 256, 232, 10, 4])\n",
      "After permute, img: torch.Size([1, 4, 256, 232, 10])\n",
      "Labels: torch.Size([1, 4, 256, 232, 10])\n",
      "Saved image to /home/jovyan/Medical images/segmented_sys/patient_29.nii\n",
      "Saved image to /home/jovyan/Medical images/segmented_sys/patient_29_gt.nii\n",
      "torch.Size([1, 1, 256, 256, 16])\n",
      "Before permute, img: torch.Size([1, 256, 214, 10, 4])\n",
      "After permute, img: torch.Size([1, 4, 256, 214, 10])\n",
      "Labels: torch.Size([1, 4, 256, 214, 10])\n",
      "Saved image to /home/jovyan/Medical images/segmented_sys/patient_30.nii\n",
      "Saved image to /home/jovyan/Medical images/segmented_sys/patient_30_gt.nii\n",
      "torch.Size([1, 1, 256, 256, 16])\n",
      "Before permute, img: torch.Size([1, 256, 216, 10, 4])\n",
      "After permute, img: torch.Size([1, 4, 256, 216, 10])\n",
      "Labels: torch.Size([1, 4, 256, 216, 10])\n",
      "Saved image to /home/jovyan/Medical images/segmented_sys/patient_31.nii\n",
      "Saved image to /home/jovyan/Medical images/segmented_sys/patient_31_gt.nii\n",
      "torch.Size([1, 1, 256, 256, 17])\n",
      "Before permute, img: torch.Size([1, 154, 224, 17, 4])\n",
      "After permute, img: torch.Size([1, 4, 154, 224, 17])\n",
      "Labels: torch.Size([1, 4, 154, 224, 17])\n",
      "Saved image to /home/jovyan/Medical images/segmented_sys/patient_32.nii\n",
      "Saved image to /home/jovyan/Medical images/segmented_sys/patient_32_gt.nii\n",
      "torch.Size([1, 1, 256, 256, 16])\n",
      "Before permute, img: torch.Size([1, 216, 256, 9, 4])\n",
      "After permute, img: torch.Size([1, 4, 216, 256, 9])\n",
      "Labels: torch.Size([1, 4, 216, 256, 9])\n",
      "Saved image to /home/jovyan/Medical images/segmented_sys/patient_33.nii\n",
      "Saved image to /home/jovyan/Medical images/segmented_sys/patient_33_gt.nii\n",
      "torch.Size([1, 1, 256, 256, 19])\n",
      "Before permute, img: torch.Size([1, 162, 208, 19, 4])\n",
      "After permute, img: torch.Size([1, 4, 162, 208, 19])\n",
      "Labels: torch.Size([1, 4, 162, 208, 19])\n",
      "Saved image to /home/jovyan/Medical images/segmented_sys/patient_34.nii\n",
      "Saved image to /home/jovyan/Medical images/segmented_sys/patient_34_gt.nii\n",
      "torch.Size([1, 1, 256, 256, 16])\n",
      "Before permute, img: torch.Size([1, 208, 174, 16, 4])\n",
      "After permute, img: torch.Size([1, 4, 208, 174, 16])\n",
      "Labels: torch.Size([1, 4, 208, 174, 16])\n",
      "Saved image to /home/jovyan/Medical images/segmented_sys/patient_35.nii\n",
      "Saved image to /home/jovyan/Medical images/segmented_sys/patient_35_gt.nii\n",
      "torch.Size([1, 1, 256, 256, 17])\n",
      "Before permute, img: torch.Size([1, 208, 162, 17, 4])\n",
      "After permute, img: torch.Size([1, 4, 208, 162, 17])\n",
      "Labels: torch.Size([1, 4, 208, 162, 17])\n",
      "Saved image to /home/jovyan/Medical images/segmented_sys/patient_36.nii\n",
      "Saved image to /home/jovyan/Medical images/segmented_sys/patient_36_gt.nii\n",
      "torch.Size([1, 1, 256, 256, 21])\n",
      "Before permute, img: torch.Size([1, 168, 208, 21, 4])\n",
      "After permute, img: torch.Size([1, 4, 168, 208, 21])\n",
      "Labels: torch.Size([1, 4, 168, 208, 21])\n",
      "Saved image to /home/jovyan/Medical images/segmented_sys/patient_37.nii\n",
      "Saved image to /home/jovyan/Medical images/segmented_sys/patient_37_gt.nii\n",
      "torch.Size([1, 1, 256, 256, 16])\n",
      "Before permute, img: torch.Size([1, 216, 256, 8, 4])\n",
      "After permute, img: torch.Size([1, 4, 216, 256, 8])\n",
      "Labels: torch.Size([1, 4, 216, 256, 8])\n",
      "Saved image to /home/jovyan/Medical images/segmented_sys/patient_38.nii\n",
      "Saved image to /home/jovyan/Medical images/segmented_sys/patient_38_gt.nii\n",
      "torch.Size([1, 1, 256, 256, 16])\n",
      "Before permute, img: torch.Size([1, 180, 224, 9, 4])\n",
      "After permute, img: torch.Size([1, 4, 180, 224, 9])\n",
      "Labels: torch.Size([1, 4, 180, 224, 9])\n",
      "Saved image to /home/jovyan/Medical images/segmented_sys/patient_39.nii\n",
      "Saved image to /home/jovyan/Medical images/segmented_sys/patient_39_gt.nii\n",
      "torch.Size([1, 1, 256, 256, 16])\n",
      "Before permute, img: torch.Size([1, 240, 166, 8, 4])\n",
      "After permute, img: torch.Size([1, 4, 240, 166, 8])\n",
      "Labels: torch.Size([1, 4, 240, 166, 8])\n",
      "Saved image to /home/jovyan/Medical images/segmented_sys/patient_40.nii\n",
      "Saved image to /home/jovyan/Medical images/segmented_sys/patient_40_gt.nii\n",
      "torch.Size([1, 1, 256, 256, 16])\n",
      "Before permute, img: torch.Size([1, 214, 256, 9, 4])\n",
      "After permute, img: torch.Size([1, 4, 214, 256, 9])\n",
      "Labels: torch.Size([1, 4, 214, 256, 9])\n",
      "Saved image to /home/jovyan/Medical images/segmented_sys/patient_41.nii\n",
      "Saved image to /home/jovyan/Medical images/segmented_sys/patient_41_gt.nii\n",
      "torch.Size([1, 1, 256, 256, 17])\n",
      "Before permute, img: torch.Size([1, 174, 208, 17, 4])\n",
      "After permute, img: torch.Size([1, 4, 174, 208, 17])\n",
      "Labels: torch.Size([1, 4, 174, 208, 17])\n",
      "Saved image to /home/jovyan/Medical images/segmented_sys/patient_42.nii\n",
      "Saved image to /home/jovyan/Medical images/segmented_sys/patient_42_gt.nii\n",
      "torch.Size([1, 1, 256, 256, 16])\n",
      "Before permute, img: torch.Size([1, 256, 216, 9, 4])\n",
      "After permute, img: torch.Size([1, 4, 256, 216, 9])\n",
      "Labels: torch.Size([1, 4, 256, 216, 9])\n",
      "Saved image to /home/jovyan/Medical images/segmented_sys/patient_43.nii\n",
      "Saved image to /home/jovyan/Medical images/segmented_sys/patient_43_gt.nii\n",
      "torch.Size([1, 1, 256, 256, 16])\n",
      "Before permute, img: torch.Size([1, 256, 216, 10, 4])\n",
      "After permute, img: torch.Size([1, 4, 256, 216, 10])\n",
      "Labels: torch.Size([1, 4, 256, 216, 10])\n",
      "Saved image to /home/jovyan/Medical images/segmented_sys/patient_44.nii\n",
      "Saved image to /home/jovyan/Medical images/segmented_sys/patient_44_gt.nii\n",
      "torch.Size([1, 1, 256, 256, 16])\n",
      "Before permute, img: torch.Size([1, 216, 256, 10, 4])\n",
      "After permute, img: torch.Size([1, 4, 216, 256, 10])\n",
      "Labels: torch.Size([1, 4, 216, 256, 10])\n",
      "Saved image to /home/jovyan/Medical images/segmented_sys/patient_45.nii\n",
      "Saved image to /home/jovyan/Medical images/segmented_sys/patient_45_gt.nii\n",
      "torch.Size([1, 1, 256, 256, 16])\n",
      "Before permute, img: torch.Size([1, 216, 256, 10, 4])\n",
      "After permute, img: torch.Size([1, 4, 216, 256, 10])\n",
      "Labels: torch.Size([1, 4, 216, 256, 10])\n",
      "Saved image to /home/jovyan/Medical images/segmented_sys/patient_46.nii\n",
      "Saved image to /home/jovyan/Medical images/segmented_sys/patient_46_gt.nii\n",
      "torch.Size([1, 1, 256, 256, 16])\n",
      "Before permute, img: torch.Size([1, 216, 256, 11, 4])\n",
      "After permute, img: torch.Size([1, 4, 216, 256, 11])\n",
      "Labels: torch.Size([1, 4, 216, 256, 11])\n",
      "Saved image to /home/jovyan/Medical images/segmented_sys/patient_47.nii\n",
      "Saved image to /home/jovyan/Medical images/segmented_sys/patient_47_gt.nii\n",
      "torch.Size([1, 1, 256, 256, 16])\n",
      "Before permute, img: torch.Size([1, 214, 256, 6, 4])\n",
      "After permute, img: torch.Size([1, 4, 214, 256, 6])\n",
      "Labels: torch.Size([1, 4, 214, 256, 6])\n",
      "Saved image to /home/jovyan/Medical images/segmented_sys/patient_48.nii\n",
      "Saved image to /home/jovyan/Medical images/segmented_sys/patient_48_gt.nii\n",
      "torch.Size([1, 1, 256, 256, 16])\n",
      "Before permute, img: torch.Size([1, 174, 208, 16, 4])\n",
      "After permute, img: torch.Size([1, 4, 174, 208, 16])\n",
      "Labels: torch.Size([1, 4, 174, 208, 16])\n",
      "Saved image to /home/jovyan/Medical images/segmented_sys/patient_49.nii\n",
      "Saved image to /home/jovyan/Medical images/segmented_sys/patient_49_gt.nii\n",
      "[[49.67873  32.520676 34.92813  37.669647]]\n"
     ]
    },
    {
     "data": {
      "text/plain": [
       "array([[0.9935746 , 0.6504135 , 0.6985626 , 0.75339293]], dtype=float32)"
      ]
     },
     "execution_count": 52,
     "metadata": {},
     "output_type": "execute_result"
    }
   ],
   "source": [
    "compute_metric(test_loader_sys, model, monai.metrics.DiceMetric(include_background=True, reduction=\"mean\"), phase='sys')"
   ]
  },
  {
   "cell_type": "code",
   "execution_count": 17,
   "id": "e744a211-27b7-48d8-9e18-7ee74731814f",
   "metadata": {
    "tags": []
   },
   "outputs": [
    {
     "data": {
      "image/png": "[encoded data removed]",
      "text/plain": [
       "<Figure size 800x800 with 2 Axes>"
      ]
     },
     "metadata": {},
     "output_type": "display_data"
    }
   ],
   "source": [
    "# Load NIfTI file\n",
    "img = nib.load('/home/jovyan/Medical images/segmented/patient_18.nii')\n",
    "\n",
    "# Get NIfTI data array\n",
    "img_data = img.get_fdata()\n",
    "\n",
    "# Select slice number 6 (adjust as needed)\n",
    "slice_number = 6\n",
    "slice_data = img_data[:, :, slice_number]\n",
    "\n",
    "# Define a custom colormap with 4 colors (adjust colors as needed)\n",
    "colors = ['black', 'blue', 'green', 'red']\n",
    "cmap = plt.cm.colors.ListedColormap(colors)\n",
    "\n",
    "# Display the selected slice using Matplotlib\n",
    "fig, ax = plt.subplots(figsize=(8, 8))  # adjust figsize as needed\n",
    "img_plot = ax.imshow(slice_data, cmap=cmap, vmin=0, vmax=3)  # adjust vmin and vmax according to your intensity range\n",
    "ax.set_title(f\"Slice {slice_number}\")\n",
    "ax.axis('off')\n",
    "\n",
    "# Create a colorbar for the custom colormap\n",
    "norm = plt.cm.colors.Normalize(vmin=0, vmax=3)\n",
    "sm = plt.cm.ScalarMappable(cmap=cmap, norm=norm)\n",
    "sm.set_array([])\n",
    "cbar = fig.colorbar(sm, ax=ax, orientation='vertical', fraction=0.05)\n",
    "cbar.set_label('Intensity Levels')\n",
    "\n",
    "plt.show()\n"
   ]
  },
  {
   "cell_type": "code",
   "execution_count": 18,
   "id": "82409782-015d-4bab-bccc-190a5aa2225f",
   "metadata": {
    "tags": []
   },
   "outputs": [
    {
     "data": {
      "image/png": "[encoded data removed]",
      "text/plain": [
       "<Figure size 800x800 with 2 Axes>"
      ]
     },
     "metadata": {},
     "output_type": "display_data"
    }
   ],
   "source": [
    "# Load NIfTI file\n",
    "img = nib.load('/home/jovyan/Medical images/segmented/patient_18_gt.nii')\n",
    "\n",
    "# Get NIfTI data array\n",
    "img_data = img.get_fdata()\n",
    "\n",
    "# Select slice number 6 (adjust as needed)\n",
    "slice_number = 6\n",
    "slice_data = img_data[:, :, slice_number]\n",
    "\n",
    "# Define a custom colormap with 4 colors (adjust colors as needed)\n",
    "colors = ['black', 'blue', 'green', 'red']\n",
    "cmap = plt.cm.colors.ListedColormap(colors)\n",
    "\n",
    "# Display the selected slice using Matplotlib\n",
    "fig, ax = plt.subplots(figsize=(8, 8))  # adjust figsize as needed\n",
    "img_plot = ax.imshow(slice_data, cmap=cmap, vmin=0, vmax=3)  # adjust vmin and vmax according to your intensity range\n",
    "ax.set_title(f\"Slice {slice_number}\")\n",
    "ax.axis('off')\n",
    "\n",
    "# Create a colorbar for the custom colormap\n",
    "norm = plt.cm.colors.Normalize(vmin=0, vmax=3)\n",
    "sm = plt.cm.ScalarMappable(cmap=cmap, norm=norm)\n",
    "sm.set_array([])\n",
    "cbar = fig.colorbar(sm, ax=ax, orientation='vertical', fraction=0.05)\n",
    "cbar.set_label('Intensity Levels')\n",
    "\n",
    "plt.show()"
   ]
  },
  {
   "cell_type": "code",
   "execution_count": null,
   "id": "af4539ad-ada5-4cc4-8336-371193826d64",
   "metadata": {},
   "outputs": [],
   "source": []
  }
 ],
 "metadata": {
  "kernelspec": {
   "display_name": "Python",
   "language": "python",
   "name": "python3"
  },
  "language_info": {
   "codemirror_mode": {
    "name": "ipython",
    "version": 3
   },
   "file_extension": ".py",
   "mimetype": "text/x-python",
   "name": "python",
   "nbconvert_exporter": "python",
   "pygments_lexer": "ipython3",
   "version": "3.8.10"
  }
 },
 "nbformat": 4,
 "nbformat_minor": 5
}
