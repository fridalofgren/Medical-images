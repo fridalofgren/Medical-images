{
 "cells": [
  {
   "cell_type": "code",
   "execution_count": 1,
   "id": "ef40c68a-3dcc-4b0f-b5af-742c7c1a8bf6",
   "metadata": {
    "tags": []
   },
   "outputs": [],
   "source": [
    "\"\"\"This file contains the unzipping function.\"\"\"\n",
    "import os\n",
    "import gzip\n",
    "import shutil"
   ]
  },
  {
   "cell_type": "code",
   "execution_count": 2,
   "id": "9f34829b-bfe5-4de5-bd9d-4878a5b1b2db",
   "metadata": {
    "tags": []
   },
   "outputs": [],
   "source": [
    "def unzip_training_testing():\n",
    "    testing_path = r'/home/jovyan/Medical images/heart/database/testing'\n",
    "    training_path = r'/home/jovyan/Medical images/heart/database/training'\n",
    "    mode_paths = [testing_path, training_path]\n",
    "\n",
    "    # Unzip all files in training and testing folder\n",
    "    for mode_path in mode_paths:\n",
    "        # Create a list of all inner folders (patients)\n",
    "        patients = os.listdir(mode_path)\n",
    "        # Keep only the patients\n",
    "        patients.remove('MANDATORY_CITATION.md')\n",
    "\n",
    "        # Unzip the files in each patient folder\n",
    "        for patient in patients:\n",
    "            patient_path = os.path.join(mode_path, patient)\n",
    "            # Create list of files in the patient folder\n",
    "            zipped_imgs = os.listdir(patient_path)\n",
    "\n",
    "            # Unizp the images\n",
    "            for zipped_img in zipped_imgs:\n",
    "                if zipped_img.endswith('.nii.gz'):\n",
    "                    zipped_img_path = os.path.join(patient_path, zipped_img)\n",
    "                    # Save unzipped file with .gz removed\n",
    "                    output_img_path = zipped_img_path[:-3]\n",
    "                    with gzip.open(zipped_img_path, 'rb') as f_in:\n",
    "                        with open(output_img_path, 'wb') as f_out:\n",
    "                            shutil.copyfileobj(f_in, f_out)"
   ]
  }
 ],
 "metadata": {
  "kernelspec": {
   "display_name": "Python",
   "language": "python",
   "name": "python3"
  },
  "language_info": {
   "codemirror_mode": {
    "name": "ipython",
    "version": 3
   },
   "file_extension": ".py",
   "mimetype": "text/x-python",
   "name": "python",
   "nbconvert_exporter": "python",
   "pygments_lexer": "ipython3",
   "version": "3.8.10"
  }
 },
 "nbformat": 4,
 "nbformat_minor": 5
}
